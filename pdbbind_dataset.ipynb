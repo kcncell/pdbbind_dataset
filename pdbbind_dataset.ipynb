{
 "cells": [
  {
   "cell_type": "markdown",
   "id": "ee60f84d-1462-4e80-b54b-214c4f69cc6a",
   "metadata": {},
   "source": [
    "# Predict binding affinity from a protein-ligand crystal structure"
   ]
  },
  {
   "cell_type": "code",
   "execution_count": 1,
   "id": "51aa1f34-a324-495d-a150-5b5da7defb14",
   "metadata": {},
   "outputs": [],
   "source": [
    "# Packages installed in my conda environment: Deepchem, rdkit, pytorch, pytorch-geometric, tensorflow, pdbfixer, numpy <1.25\n",
    "# jupyter notebook/ google colab\n",
    "# Deep Learning for the Life Sciences by Bharath Ramsundar, Peter Eastman, Patrick Walters and Vijay Pande\n",
    "# pdbbind dataset: Cheng, T.J. et al. J. Chem. Inf. Model., 2009, 49, 1079-1093. (PDBbind v.2009)"
   ]
  },
  {
   "cell_type": "code",
   "execution_count": 2,
   "id": "28c38989-86ea-494b-a649-12a51bdedf70",
   "metadata": {},
   "outputs": [
    {
     "name": "stderr",
     "output_type": "stream",
     "text": [
      "C:\\Users\\pppdd\\miniconda3\\envs\\tf\\lib\\site-packages\\torchaudio\\backend\\utils.py:74: UserWarning: No audio backend is available.\n",
      "  warnings.warn(\"No audio backend is available.\")\n",
      "Skipped loading some Jax models, missing a dependency. jax requires jaxlib to be installed. See https://github.com/google/jax#installation for installation instructions.\n"
     ]
    }
   ],
   "source": [
    "import deepchem as dc"
   ]
  },
  {
   "cell_type": "code",
   "execution_count": 3,
   "id": "2df14f8a-3cee-4deb-b5de-f6e5511d29ba",
   "metadata": {},
   "outputs": [],
   "source": [
    "featurizer = dc.feat.RdkitGridFeaturizer(voxel_width=2.0\n",
    "                                        , feature_types=['ecfp', 'splif', 'salt_bridge', 'hbond']\n",
    "                                        , flatten=True\n",
    "                                        , sanitize=True)"
   ]
  },
  {
   "cell_type": "code",
   "execution_count": 4,
   "id": "315c3233-27a9-4104-82b8-c03266d8dce1",
   "metadata": {},
   "outputs": [
    {
     "name": "stderr",
     "output_type": "stream",
     "text": [
      "C:\\Users\\pppdd\\miniconda3\\envs\\tf\\lib\\site-packages\\deepchem\\utils\\geometry_utils.py:22: RuntimeWarning: invalid value encountered in divide\n",
      "  return vector / np.linalg.norm(vector)\n"
     ]
    }
   ],
   "source": [
    "tasks, datasets, transformers = dc.molnet.load_pdbbind(featurizer=featurizer, reload=False, set_name='core' )"
   ]
  },
  {
   "cell_type": "code",
   "execution_count": 5,
   "id": "a59509d7-e1e3-47a3-aafb-9ae5b5efb65e",
   "metadata": {},
   "outputs": [
    {
     "data": {
      "text/plain": [
       "['-logKd/Ki']"
      ]
     },
     "execution_count": 5,
     "metadata": {},
     "output_type": "execute_result"
    }
   ],
   "source": [
    "tasks"
   ]
  },
  {
   "cell_type": "code",
   "execution_count": 6,
   "id": "0532b18d-7398-4e33-b018-7234ef406ce4",
   "metadata": {},
   "outputs": [
    {
     "data": {
      "text/plain": [
       "[<deepchem.trans.transformers.NormalizationTransformer at 0x24f80757fa0>]"
      ]
     },
     "execution_count": 6,
     "metadata": {},
     "output_type": "execute_result"
    }
   ],
   "source": [
    "transformers"
   ]
  },
  {
   "cell_type": "code",
   "execution_count": 7,
   "id": "ee6e521a-08df-4f6e-bf66-c8bf5325e13b",
   "metadata": {},
   "outputs": [],
   "source": [
    "train, valid, test = datasets"
   ]
  },
  {
   "cell_type": "code",
   "execution_count": 9,
   "id": "5c4e92b4-3053-4b12-9937-8f87db5061ca",
   "metadata": {},
   "outputs": [
    {
     "name": "stdout",
     "output_type": "stream",
     "text": [
      "int8\n",
      "float64\n",
      "float32\n"
     ]
    }
   ],
   "source": [
    "print(train.X.dtype)\n",
    "print(train.y.dtype)\n",
    "print(train.w.dtype)"
   ]
  },
  {
   "cell_type": "code",
   "execution_count": 10,
   "id": "85dedb8d-956c-4c1d-8369-8a51cac11a4b",
   "metadata": {},
   "outputs": [],
   "source": [
    "x_train = train.X.astype('float32')\n",
    "y_train = train.y.astype('float32')\n",
    "w_train = train.w.astype('float32')\n",
    "\n",
    "x_test = test.X.astype('float32')\n",
    "y_test = test.y.astype('float32')\n",
    "w_test = test.w.astype('float32')"
   ]
  },
  {
   "cell_type": "code",
   "execution_count": 11,
   "id": "96dd158d-5703-40a3-8537-b91947a35f3a",
   "metadata": {},
   "outputs": [
    {
     "data": {
      "text/plain": [
       "dtype('float32')"
      ]
     },
     "execution_count": 11,
     "metadata": {},
     "output_type": "execute_result"
    }
   ],
   "source": [
    "x_train.dtype"
   ]
  },
  {
   "cell_type": "code",
   "execution_count": 13,
   "id": "35114111-7441-47fd-a128-5e152a6cdcb2",
   "metadata": {},
   "outputs": [
    {
     "data": {
      "text/plain": [
       "(154, 18432)"
      ]
     },
     "execution_count": 13,
     "metadata": {},
     "output_type": "execute_result"
    }
   ],
   "source": [
    "train.X.shape"
   ]
  },
  {
   "cell_type": "code",
   "execution_count": 14,
   "id": "fb8cb255-0941-4cc4-a955-cb535302d227",
   "metadata": {},
   "outputs": [
    {
     "data": {
      "text/plain": [
       "(154, 18432)"
      ]
     },
     "execution_count": 14,
     "metadata": {},
     "output_type": "execute_result"
    }
   ],
   "source": [
    "x_train.shape"
   ]
  },
  {
   "cell_type": "code",
   "execution_count": 15,
   "id": "1c6f6a31-5fb3-401e-b290-72b00eeb1da5",
   "metadata": {},
   "outputs": [],
   "source": [
    "train_dataset = dc.data.NumpyDataset(x_train, y_train, w_train)\n",
    "test_dataset = dc.data.NumpyDataset(x_test, y_test, w_test)"
   ]
  },
  {
   "cell_type": "code",
   "execution_count": 18,
   "id": "f8fe567e-4ab7-427f-b928-85b216b49012",
   "metadata": {},
   "outputs": [
    {
     "data": {
      "text/plain": [
       "(154, 18432)"
      ]
     },
     "execution_count": 18,
     "metadata": {},
     "output_type": "execute_result"
    }
   ],
   "source": [
    "train_dataset.X.shape"
   ]
  },
  {
   "cell_type": "code",
   "execution_count": 19,
   "id": "978c605e-2ba5-44ea-b697-9c767e0fa3ba",
   "metadata": {},
   "outputs": [],
   "source": [
    "model = dc.models.MultitaskRegressor(n_tasks=1, n_features=train_dataset.X.shape[1], layer_sizes=[5000, 2000, 1000], dropouts=0.5)"
   ]
  },
  {
   "cell_type": "code",
   "execution_count": 20,
   "id": "8d56d345-efb2-47f4-ae58-45cea4694248",
   "metadata": {},
   "outputs": [
    {
     "data": {
      "text/plain": [
       "0.0620599889755249"
      ]
     },
     "execution_count": 20,
     "metadata": {},
     "output_type": "execute_result"
    }
   ],
   "source": [
    "model.fit(train_dataset, nb_epoch=200)"
   ]
  },
  {
   "cell_type": "code",
   "execution_count": 21,
   "id": "19592d64-a65b-4657-953a-33c7ef36ebc5",
   "metadata": {},
   "outputs": [],
   "source": [
    "metric = dc.metrics.Metric(dc.metrics.pearson_r2_score)"
   ]
  },
  {
   "cell_type": "code",
   "execution_count": 22,
   "id": "70c59399-add1-4c60-89bf-7ca7e22d8c3f",
   "metadata": {},
   "outputs": [
    {
     "name": "stdout",
     "output_type": "stream",
     "text": [
      "{'pearson_r2_score': 0.9961735077259087}\n"
     ]
    }
   ],
   "source": [
    "train_score = model.evaluate(train_dataset, [metric], transformers)\n",
    "print(train_score)"
   ]
  },
  {
   "cell_type": "code",
   "execution_count": 23,
   "id": "1cb1d2db-3e1a-4eb7-bdbf-fec982547e61",
   "metadata": {},
   "outputs": [
    {
     "name": "stdout",
     "output_type": "stream",
     "text": [
      "{'pearson_r2_score': 0.22964646127693872}\n"
     ]
    }
   ],
   "source": [
    "test_score = model.evaluate(test_dataset, [metric], transformers)\n",
    "print(test_score)"
   ]
  },
  {
   "cell_type": "code",
   "execution_count": 25,
   "id": "88aae9b7-4a87-48ce-aa93-f1700a4b3922",
   "metadata": {},
   "outputs": [
    {
     "data": {
      "text/plain": [
       "(20, 18432)"
      ]
     },
     "execution_count": 25,
     "metadata": {},
     "output_type": "execute_result"
    }
   ],
   "source": [
    "test_dataset.X.shape"
   ]
  },
  {
   "cell_type": "code",
   "execution_count": 26,
   "id": "8188b65a-f482-4ef8-8dea-4618a406b78f",
   "metadata": {},
   "outputs": [
    {
     "data": {
      "text/plain": [
       "array([[[ 0.49557406]],\n",
       "\n",
       "       [[-0.11611837]],\n",
       "\n",
       "       [[-0.5619836 ]],\n",
       "\n",
       "       [[ 0.34860352]],\n",
       "\n",
       "       [[ 0.60068214]]], dtype=float32)"
      ]
     },
     "execution_count": 26,
     "metadata": {},
     "output_type": "execute_result"
    }
   ],
   "source": [
    "prediction = model.predict_on_batch(test_dataset.X)\n",
    "prediction[:5]"
   ]
  },
  {
   "cell_type": "code",
   "execution_count": 27,
   "id": "2be50439-9f31-4d78-a8cd-8faa39e1c638",
   "metadata": {},
   "outputs": [
    {
     "data": {
      "text/plain": [
       "array([-0.8548599 ,  0.2195263 , -0.08744118,  2.034246  ,  1.1314003 ],\n",
       "      dtype=float32)"
      ]
     },
     "execution_count": 27,
     "metadata": {},
     "output_type": "execute_result"
    }
   ],
   "source": [
    "test_dataset.y[:5]"
   ]
  },
  {
   "cell_type": "code",
   "execution_count": 28,
   "id": "454f1e2f-523c-4a40-97fa-d44f8e70e9a5",
   "metadata": {},
   "outputs": [],
   "source": [
    "import matplotlib.pyplot as plt\n",
    "import seaborn as sns"
   ]
  },
  {
   "cell_type": "code",
   "execution_count": 31,
   "id": "1412c481-57f4-494b-8d98-e459a6014c63",
   "metadata": {},
   "outputs": [
    {
     "data": {
      "text/plain": [
       "(20, 1, 1)"
      ]
     },
     "execution_count": 31,
     "metadata": {},
     "output_type": "execute_result"
    }
   ],
   "source": [
    "prediction.shape"
   ]
  },
  {
   "cell_type": "code",
   "execution_count": 32,
   "id": "bea32de2-6095-444f-8429-cc08492150ba",
   "metadata": {},
   "outputs": [
    {
     "data": {
      "text/plain": [
       "(20,)"
      ]
     },
     "execution_count": 32,
     "metadata": {},
     "output_type": "execute_result"
    }
   ],
   "source": [
    "prediction = prediction.reshape(20)\n",
    "prediction.shape"
   ]
  },
  {
   "cell_type": "code",
   "execution_count": 33,
   "id": "99f72f74-4044-488a-b603-fd0a9b87c6e8",
   "metadata": {},
   "outputs": [
    {
     "data": {
      "text/plain": [
       "Text(0, 0.5, 'prediction')"
      ]
     },
     "execution_count": 33,
     "metadata": {},
     "output_type": "execute_result"
    },
    {
     "data": {
      "image/png": "[encoded data removed]",
      "text/plain": [
       "<Figure size 500x500 with 1 Axes>"
      ]
     },
     "metadata": {},
     "output_type": "display_data"
    }
   ],
   "source": [
    "fig, ax = plt.subplots(figsize=(5,5))\n",
    "ax = sns.scatterplot(x=test_dataset.y, y=prediction)\n",
    "ax.set_title('pdbbind dataset')\n",
    "ax.set_xlabel('True')\n",
    "ax.set_ylabel('prediction')"
   ]
  },
  {
   "cell_type": "code",
   "execution_count": null,
   "id": "9c0662c1-12c6-41b8-8bda-fad066a3358b",
   "metadata": {},
   "outputs": [],
   "source": []
  }
 ],
 "metadata": {
  "kernelspec": {
   "display_name": "Python 3 (ipykernel)",
   "language": "python",
   "name": "python3"
  },
  "language_info": {
   "codemirror_mode": {
    "name": "ipython",
    "version": 3
   },
   "file_extension": ".py",
   "mimetype": "text/x-python",
   "name": "python",
   "nbconvert_exporter": "python",
   "pygments_lexer": "ipython3",
   "version": "3.10.12"
  }
 },
 "nbformat": 4,
 "nbformat_minor": 5
}
